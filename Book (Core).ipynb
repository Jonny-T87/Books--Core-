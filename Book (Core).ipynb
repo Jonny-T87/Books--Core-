{
 "cells": [
  {
   "cell_type": "markdown",
   "id": "525da113",
   "metadata": {},
   "source": [
    "# Book Core\n",
    "\n",
    "Jonny Tesfahun\n",
    "08/18/22"
   ]
  },
  {
   "cell_type": "markdown",
   "id": "69dc571a",
   "metadata": {},
   "source": [
    "![png](book.png)"
   ]
  },
  {
   "cell_type": "code",
   "execution_count": null,
   "id": "e50a58ad",
   "metadata": {},
   "outputs": [],
   "source": []
  }
 ],
 "metadata": {
  "kernelspec": {
   "display_name": "Python (dojo-env)",
   "language": "python",
   "name": "dojo-env"
  },
  "language_info": {
   "codemirror_mode": {
    "name": "ipython",
    "version": 3
   },
   "file_extension": ".py",
   "mimetype": "text/x-python",
   "name": "python",
   "nbconvert_exporter": "python",
   "pygments_lexer": "ipython3",
   "version": "3.8.13"
  },
  "toc": {
   "base_numbering": 1,
   "nav_menu": {},
   "number_sections": true,
   "sideBar": true,
   "skip_h1_title": false,
   "title_cell": "Table of Contents",
   "title_sidebar": "Contents",
   "toc_cell": false,
   "toc_position": {},
   "toc_section_display": true,
   "toc_window_display": false
  }
 },
 "nbformat": 4,
 "nbformat_minor": 5
}
